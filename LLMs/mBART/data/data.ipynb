{
 "cells": [
  {
   "cell_type": "code",
   "execution_count": 1,
   "metadata": {},
   "outputs": [],
   "source": [
    "import os\n",
    "os.environ['HF_HOME'] = \"./\"\n",
    "os.environ['WANDB_DISABLED'] = 'true'\n",
    "os.environ['CUDA_VISIBLE_DEVICES'] = '0'"
   ]
  },
  {
   "cell_type": "code",
   "execution_count": 2,
   "metadata": {},
   "outputs": [],
   "source": [
    "from datasets import load_dataset"
   ]
  },
  {
   "cell_type": "code",
   "execution_count": 3,
   "metadata": {},
   "outputs": [
    {
     "data": {
      "application/vnd.jupyter.widget-view+json": {
       "model_id": "c708dbd8110945d2b244b33e3f4d05da",
       "version_major": 2,
       "version_minor": 0
      },
      "text/plain": [
       "Downloading readme:   0%|          | 0.00/3.14k [00:00<?, ?B/s]"
      ]
     },
     "metadata": {},
     "output_type": "display_data"
    },
    {
     "data": {
      "application/vnd.jupyter.widget-view+json": {
       "model_id": "12eef0a4e9a94a279a65f9cff5ecc44e",
       "version_major": 2,
       "version_minor": 0
      },
      "text/plain": [
       "Downloading metadata:   0%|          | 0.00/953 [00:00<?, ?B/s]"
      ]
     },
     "metadata": {},
     "output_type": "display_data"
    },
    {
     "name": "stderr",
     "output_type": "stream",
     "text": [
      "Downloading data: 100%|██████████| 190M/190M [00:02<00:00, 76.6MB/s] \n",
      "Downloading data: 100%|██████████| 85.7k/85.7k [00:00<00:00, 369kB/s]\n",
      "Downloading data: 100%|██████████| 500k/500k [00:00<00:00, 2.07MB/s]\n"
     ]
    },
    {
     "data": {
      "application/vnd.jupyter.widget-view+json": {
       "model_id": "a5940d78921f4be790e75b8d0a0efea2",
       "version_major": 2,
       "version_minor": 0
      },
      "text/plain": [
       "Generating train split:   0%|          | 0/1659083 [00:00<?, ? examples/s]"
      ]
     },
     "metadata": {},
     "output_type": "display_data"
    },
    {
     "data": {
      "application/vnd.jupyter.widget-view+json": {
       "model_id": "52fe551dbddd4d9f9817fd279640ec99",
       "version_major": 2,
       "version_minor": 0
      },
      "text/plain": [
       "Generating validation split:   0%|          | 0/520 [00:00<?, ? examples/s]"
      ]
     },
     "metadata": {},
     "output_type": "display_data"
    },
    {
     "data": {
      "application/vnd.jupyter.widget-view+json": {
       "model_id": "60da1c9ca86a4ca8b32c4ccdf826ac30",
       "version_major": 2,
       "version_minor": 0
      },
      "text/plain": [
       "Generating test split:   0%|          | 0/2507 [00:00<?, ? examples/s]"
      ]
     },
     "metadata": {},
     "output_type": "display_data"
    }
   ],
   "source": [
    "dataset = load_dataset(\"cfilt/iitb-english-hindi\")"
   ]
  },
  {
   "cell_type": "code",
   "execution_count": 4,
   "metadata": {},
   "outputs": [],
   "source": [
    "english_train_file = open(\"english_train.txt\", \"w+\", encoding='utf8')\n",
    "hindi_train_file = open(\"hindi_train.txt\", \"w+\", encoding='utf8')\n",
    "for translation_pair in dataset[\"train\"][\"translation\"]:\n",
    "  english_sentence = translation_pair[\"en\"]\n",
    "  hindi_sentence = translation_pair[\"hi\"]\n",
    "  english_train_file.write(english_sentence.strip(\"\\n\") + \"\\n\")\n",
    "  hindi_train_file.write(hindi_sentence.strip(\"\\n\") + \"\\n\")\n",
    "english_train_file.close()\n",
    "hindi_train_file.close()\n",
    "\n",
    "english_valid_file = open(\"english_valid.txt\", \"w+\", encoding='utf8')\n",
    "hindi_valid_file = open(\"hindi_valid.txt\", \"w+\", encoding='utf8')\n",
    "for translation_pair in dataset[\"validation\"][\"translation\"]:\n",
    "  english_sentence = translation_pair[\"en\"]\n",
    "  hindi_sentence = translation_pair[\"hi\"]\n",
    "  english_valid_file.write(english_sentence.strip(\"\\n\") + \"\\n\")\n",
    "  hindi_valid_file.write(hindi_sentence.strip(\"\\n\") + \"\\n\")\n",
    "english_valid_file.close()\n",
    "hindi_valid_file.close()\n",
    "\n",
    "english_test_file = open(\"english_test.txt\", \"w+\", encoding='utf8')\n",
    "hindi_test_file = open(\"hindi_test.txt\", \"w+\", encoding='utf8')\n",
    "for translation_pair in dataset[\"test\"][\"translation\"]:\n",
    "  english_sentence = translation_pair[\"en\"]\n",
    "  hindi_sentence = translation_pair[\"hi\"]\n",
    "  english_test_file.write(english_sentence.strip(\"\\n\") + \"\\n\")\n",
    "  hindi_test_file.write(hindi_sentence.strip(\"\\n\") + \"\\n\")\n",
    "english_test_file.close()\n",
    "hindi_test_file.close()"
   ]
  },
  {
   "cell_type": "code",
   "execution_count": null,
   "metadata": {},
   "outputs": [],
   "source": []
  }
 ],
 "metadata": {
  "kernelspec": {
   "display_name": "hugging-face",
   "language": "python",
   "name": "python3"
  },
  "language_info": {
   "codemirror_mode": {
    "name": "ipython",
    "version": 3
   },
   "file_extension": ".py",
   "mimetype": "text/x-python",
   "name": "python",
   "nbconvert_exporter": "python",
   "pygments_lexer": "ipython3",
   "version": "3.12.2"
  }
 },
 "nbformat": 4,
 "nbformat_minor": 2
}
